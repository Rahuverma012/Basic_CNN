{
  "cells": [
    {
      "cell_type": "markdown",
      "metadata": {
        "id": "tMmhNj_Ov8sz"
      },
      "source": [
        "# Basic Convolutional Neural Networks (CNN)\n",
        "- Objective: create basic CNN models with Keras"
      ]
    },
    {
      "cell_type": "markdown",
      "metadata": {
        "id": "Z2wjV3E3v8s0"
      },
      "source": [
        "<img src=\"https://adeshpande3.github.io/assets/Cover.png\" style=\"width: 800px\"/>\n",
        "\n",
        "<br>\n",
        "- Fundamental CNN structures: CNNs are similar to MLPs since they only feed signals forward (feedforward nets), but have different kind of layers unique to CNNs\n",
        "    - ** Convolutional layer** : process data in a small receptive field (i.e., filter)\n",
        "    - ** Pooling layer** : downsample along 2 dimensions (usually width and height)\n",
        "    - ** Dense (fully connected) layer** : similar to hidden layers of MLPs"
      ]
    },
    {
      "cell_type": "markdown",
      "metadata": {
        "id": "UjQzK4Uiv8s1"
      },
      "source": [
        "<img src=\"http://cs231n.github.io/assets/cnn/convnet.jpeg\" style=\"width: 600px\"/>\n",
        "<br>\n",
        "<center> **ConvNet architecture** </center>"
      ]
    },
    {
      "cell_type": "code",
      "execution_count": null,
      "metadata": {
        "id": "aA9fZK7Zv8s2"
      },
      "outputs": [],
      "source": [
        "import numpy as np\n",
        "import matplotlib.pyplot as plt\n",
        "\n",
        "from sklearn import datasets\n",
        "from sklearn.model_selection import train_test_split\n",
        "from tensorflow.keras import utils"
      ]
    },
    {
      "cell_type": "markdown",
      "metadata": {
        "id": "3ve9vJ5cv8s2"
      },
      "source": [
        "### Load Datset\n",
        "- Digits dataset in sklearn\n",
        "- Doc: http://scikit-learn.org/stable/auto_examples/datasets/plot_digits_last_image.html"
      ]
    },
    {
      "cell_type": "code",
      "execution_count": null,
      "metadata": {
        "collapsed": true,
        "id": "aDiXen0iv8s2"
      },
      "outputs": [],
      "source": [
        "data = datasets.load_digits()"
      ]
    },
    {
      "cell_type": "code",
      "execution_count": null,
      "metadata": {
        "colab": {
          "base_uri": "https://localhost:8080/",
          "height": 448
        },
        "id": "o3KD766Av8s3",
        "outputId": "5f69ce17-2da1-4386-ab13-97dfbf893a13"
      },
      "outputs": [
        {
          "output_type": "display_data",
          "data": {
            "text/plain": [
              "<Figure size 640x480 with 1 Axes>"
            ],
            "image/png": "[encoded data removed]"
          },
          "metadata": {}
        },
        {
          "output_type": "stream",
          "name": "stdout",
          "text": [
            "label:  0\n"
          ]
        }
      ],
      "source": [
        "plt.imshow(data.images[0])    # show first number in the dataset\n",
        "plt.show()\n",
        "print('label: ', data.target[0])    # label = '0'"
      ]
    },
    {
      "cell_type": "code",
      "execution_count": null,
      "metadata": {
        "collapsed": true,
        "id": "KuofMzXrv8s3"
      },
      "outputs": [],
      "source": [
        "X_data = data.images\n",
        "y_data = data.target"
      ]
    },
    {
      "cell_type": "code",
      "execution_count": null,
      "metadata": {
        "colab": {
          "base_uri": "https://localhost:8080/"
        },
        "id": "Ll87xP7av8s3",
        "outputId": "4614a231-e7c3-4db6-b47d-2721214b2a6f"
      },
      "outputs": [
        {
          "output_type": "stream",
          "name": "stdout",
          "text": [
            "(1797, 8, 8)\n",
            "(1797,)\n"
          ]
        }
      ],
      "source": [
        "# shape of data\n",
        "print(X_data.shape)    # (8 X 8) format\n",
        "print(y_data.shape)"
      ]
    },
    {
      "cell_type": "code",
      "execution_count": null,
      "metadata": {
        "collapsed": true,
        "id": "72wW-EXNv8s3"
      },
      "outputs": [],
      "source": [
        "# reshape X_data into 3-D format\n",
        "# note that this follows image format of Tensorflow backend\n",
        "X_data = X_data.reshape((X_data.shape[0], X_data.shape[1], X_data.shape[2], 1))"
      ]
    },
    {
      "cell_type": "code",
      "source": [],
      "metadata": {
        "id": "Zy_cirVbjKB7"
      },
      "execution_count": null,
      "outputs": []
    },
    {
      "cell_type": "code",
      "execution_count": null,
      "metadata": {
        "collapsed": true,
        "id": "4R9aYX6Fv8s3"
      },
      "outputs": [],
      "source": [
        "# one-hot encoding of y_data\n",
        "y_data =  utils.to_categorical(y_data)"
      ]
    },
    {
      "cell_type": "code",
      "execution_count": null,
      "metadata": {
        "collapsed": true,
        "id": "J9hzqG18v8s3"
      },
      "outputs": [],
      "source": [
        "# partition data into train/test sets\n",
        "X_train, X_test, y_train, y_test = train_test_split(X_data, y_data, test_size = 0.3, random_state = 777)"
      ]
    },
    {
      "cell_type": "code",
      "execution_count": null,
      "metadata": {
        "colab": {
          "base_uri": "https://localhost:8080/"
        },
        "id": "TgtYREetv8s3",
        "outputId": "11bcaab7-9339-4109-a971-31f96736a3a2"
      },
      "outputs": [
        {
          "output_type": "stream",
          "name": "stdout",
          "text": [
            "(1257, 8, 8, 1)\n",
            "(540, 8, 8, 1)\n",
            "(1257, 10)\n",
            "(540, 10)\n"
          ]
        }
      ],
      "source": [
        "print(X_train.shape)\n",
        "print(X_test.shape)\n",
        "print(y_train.shape)\n",
        "print(y_test.shape)"
      ]
    },
    {
      "cell_type": "code",
      "execution_count": null,
      "metadata": {
        "collapsed": true,
        "id": "cEIYx7DMv8s3"
      },
      "outputs": [],
      "source": [
        "from keras.models import Sequential\n",
        "from keras import optimizers\n",
        "from keras.layers import Dense, Activation, Flatten, Conv2D, MaxPooling2D"
      ]
    },
    {
      "cell_type": "markdown",
      "metadata": {
        "collapsed": true,
        "id": "pxBjIJU-v8s3"
      },
      "source": [
        "### 1. Creating model\n",
        "- Creating a model is same with MLP (Sequential)"
      ]
    },
    {
      "cell_type": "code",
      "execution_count": null,
      "metadata": {
        "collapsed": true,
        "id": "cedS59E6v8s3"
      },
      "outputs": [],
      "source": [
        "model = Sequential()"
      ]
    },
    {
      "cell_type": "markdown",
      "metadata": {
        "id": "9gF2loH5v8s3"
      },
      "source": [
        "### 2. Convolutional Layer\n",
        "- In general, 2D convolutional layer is used for image processing\n",
        "    - Size of filter (designated by 'kernel_size' parameter) defines **width and height of receptive field **\n",
        "    - Number of filters (designated by 'filters' parameter) is equal to **depth of the next layer**\n",
        "    - Strides (designated by 'strides' parameter) is** how far a filter makes change in its position** for each move\n",
        "    - Image can be **zero-padded** in order to prevent getting too small (designated by 'padding' parameter)\n",
        "- Doc: https://keras.io/layers/convolutional/\n",
        "<img src=\"http://cs231n.github.io/assets/cnn/depthcol.jpeg\" style=\"width: 400px\"/>"
      ]
    },
    {
      "cell_type": "code",
      "execution_count": null,
      "metadata": {
        "collapsed": true,
        "id": "1KzC04zkv8s3"
      },
      "outputs": [],
      "source": [
        "# convolution layer\n",
        "model.add(Conv2D(input_shape = (X_data.shape[1], X_data.shape[2], X_data.shape[3]), filters = 10, kernel_size = (3,3), strides = (1,1), padding = 'valid'))"
      ]
    },
    {
      "cell_type": "markdown",
      "metadata": {
        "id": "48JB6NSjv8s3"
      },
      "source": [
        "### 3. Activation Layer\n",
        "- Identical to the activation layers in MLP\n",
        "- In general, relu is used as well\n",
        "- Doc: http://cs231n.github.io/assets/cnn/depthcol.jpeg"
      ]
    },
    {
      "cell_type": "code",
      "execution_count": null,
      "metadata": {
        "collapsed": true,
        "id": "SqrLG5Zpv8s3"
      },
      "outputs": [],
      "source": [
        "model.add(Activation('relu'))"
      ]
    },
    {
      "cell_type": "markdown",
      "metadata": {
        "id": "_O5m96yZv8s3"
      },
      "source": [
        "### 4. Pooling layer\n",
        "- In general, max pooling method is used\n",
        "- Reduces number of parameters\n",
        "- Doc: https://keras.io/layers/pooling/\n",
        "<img src=\"http://cs231n.github.io/assets/cnn/maxpool.jpeg\" style=\"width: 600px\"/>"
      ]
    },
    {
      "cell_type": "code",
      "execution_count": null,
      "metadata": {
        "collapsed": true,
        "id": "aT2dT9Fcv8s4"
      },
      "outputs": [],
      "source": [
        "model.add(MaxPooling2D(pool_size = (2,2)))"
      ]
    },
    {
      "cell_type": "markdown",
      "metadata": {
        "id": "q0xvC5Sqv8s4"
      },
      "source": [
        "### 5. Dense (fully connected layer)\n",
        "- Convolutional & pooling layers can be connected to dense layers\n",
        "- Sometimes, dense layers can be omitted\n",
        "- Doc: https://keras.io/layers/core/"
      ]
    },
    {
      "cell_type": "code",
      "execution_count": null,
      "metadata": {
        "collapsed": true,
        "id": "CwrELdG2v8s4"
      },
      "outputs": [],
      "source": [
        "# prior layer should be flattend to be connected to dense layers\n",
        "model.add(Flatten())"
      ]
    },
    {
      "cell_type": "code",
      "execution_count": null,
      "metadata": {
        "collapsed": true,
        "id": "8h1Jx5cXv8s4"
      },
      "outputs": [],
      "source": [
        "# dense layer with 50 neurons\n",
        "model.add(Dense(50, activation = 'relu'))"
      ]
    },
    {
      "cell_type": "code",
      "execution_count": null,
      "metadata": {
        "collapsed": true,
        "id": "CpZq_J-Vv8s4"
      },
      "outputs": [],
      "source": [
        "# final layer with 10 neurons to classify the instances\n",
        "model.add(Dense(10, activation = 'softmax'))"
      ]
    },
    {
      "cell_type": "markdown",
      "metadata": {
        "id": "cOMkou9-v8s4"
      },
      "source": [
        "### 6. Model compile & train\n",
        "- Identical to compiling MLP models"
      ]
    },
    {
      "cell_type": "code",
      "execution_count": null,
      "metadata": {
        "collapsed": true,
        "colab": {
          "base_uri": "https://localhost:8080/"
        },
        "id": "CYlimT9Vv8s4",
        "outputId": "bd3dc4e2-b4d8-4268-b5ac-532cccbf008b"
      },
      "outputs": [
        {
          "output_type": "stream",
          "name": "stderr",
          "text": [
            "WARNING:absl:`lr` is deprecated in Keras optimizer, please use `learning_rate` or use the legacy optimizer, e.g.,tf.keras.optimizers.legacy.Adam.\n"
          ]
        }
      ],
      "source": [
        "adam = optimizers.Adam(lr = 0.001)\n",
        "model.compile(loss = 'categorical_crossentropy', optimizer = adam, metrics = ['accuracy'])"
      ]
    },
    {
      "cell_type": "code",
      "execution_count": null,
      "metadata": {
        "collapsed": true,
        "id": "jQZqwJhFv8s4"
      },
      "outputs": [],
      "source": [
        "history = model.fit(X_train, y_train, batch_size = 50, validation_split = 0.2, epochs = 100, verbose = 0)"
      ]
    },
    {
      "cell_type": "code",
      "execution_count": null,
      "metadata": {
        "colab": {
          "base_uri": "https://localhost:8080/",
          "height": 430
        },
        "id": "5gM-3Om5v8s4",
        "outputId": "223a8154-2eb2-4352-ad93-73b76f6bf9b4"
      },
      "outputs": [
        {
          "output_type": "display_data",
          "data": {
            "text/plain": [
              "<Figure size 640x480 with 1 Axes>"
            ],
            "image/png": "[encoded data removed]"
          },
          "metadata": {}
        }
      ],
      "source": [
        "plt.plot(history.history['accuracy'])\n",
        "plt.plot(history.history['val_accuracy'])\n",
        "plt.legend(['training', 'validation'], loc = 'upper left')\n",
        "plt.show()"
      ]
    },
    {
      "cell_type": "code",
      "execution_count": null,
      "metadata": {
        "colab": {
          "base_uri": "https://localhost:8080/"
        },
        "id": "Nz3b9AMAv8s4",
        "outputId": "05e4b416-411f-4cec-f09f-a106697074f5"
      },
      "outputs": [
        {
          "output_type": "stream",
          "name": "stdout",
          "text": [
            "17/17 [==============================] - 0s 2ms/step - loss: 0.0913 - accuracy: 0.9796\n"
          ]
        }
      ],
      "source": [
        "results = model.evaluate(X_test, y_test)"
      ]
    },
    {
      "cell_type": "code",
      "execution_count": null,
      "metadata": {
        "colab": {
          "base_uri": "https://localhost:8080/"
        },
        "id": "v7YT2dW-v8s4",
        "outputId": "cd683b81-765d-4ad8-b42f-88e858084f57"
      },
      "outputs": [
        {
          "output_type": "stream",
          "name": "stdout",
          "text": [
            "Test accuracy:  0.979629635810852\n"
          ]
        }
      ],
      "source": [
        "print('Test accuracy: ', results[1])"
      ]
    },
    {
      "cell_type": "code",
      "source": [
        "X_test[0:1].shape"
      ],
      "metadata": {
        "colab": {
          "base_uri": "https://localhost:8080/"
        },
        "id": "wXwtZALt3Iu_",
        "outputId": "1a8780bf-dcd1-4e58-d4ec-6e1b2a1b181e"
      },
      "execution_count": null,
      "outputs": [
        {
          "output_type": "execute_result",
          "data": {
            "text/plain": [
              "(1, 8, 8, 1)"
            ]
          },
          "metadata": {},
          "execution_count": 23
        }
      ]
    },
    {
      "cell_type": "code",
      "source": [],
      "metadata": {
        "id": "OYXXNaNH5k44"
      },
      "execution_count": null,
      "outputs": []
    },
    {
      "cell_type": "code",
      "source": [
        "p = model.predict(X_test[0:1])\n"
      ],
      "metadata": {
        "colab": {
          "base_uri": "https://localhost:8080/"
        },
        "id": "Re26RMe92kqv",
        "outputId": "014aad24-8b86-443a-e2eb-a4942fd036ad"
      },
      "execution_count": null,
      "outputs": [
        {
          "output_type": "stream",
          "name": "stdout",
          "text": [
            "1/1 [==============================] - 0s 113ms/step\n"
          ]
        }
      ]
    },
    {
      "cell_type": "code",
      "source": [
        "data.images.shape"
      ],
      "metadata": {
        "colab": {
          "base_uri": "https://localhost:8080/"
        },
        "id": "wV2lhFNb6Cql",
        "outputId": "41e20a18-506c-453a-fc05-e7a645514370"
      },
      "execution_count": null,
      "outputs": [
        {
          "output_type": "execute_result",
          "data": {
            "text/plain": [
              "(1797, 8, 8)"
            ]
          },
          "metadata": {},
          "execution_count": 25
        }
      ]
    },
    {
      "cell_type": "code",
      "source": [
        "plt.imshow(X_test[0])    # show first number in the dataset\n",
        "plt.show()\n"
      ],
      "metadata": {
        "colab": {
          "base_uri": "https://localhost:8080/",
          "height": 430
        },
        "id": "Rg0jMA0G5_9k",
        "outputId": "e40f808a-c05b-447c-81b9-d1b01d7c6ddd"
      },
      "execution_count": null,
      "outputs": [
        {
          "output_type": "display_data",
          "data": {
            "text/plain": [
              "<Figure size 640x480 with 1 Axes>"
            ],
            "image/png": "[encoded data removed]"
          },
          "metadata": {}
        }
      ]
    },
    {
      "cell_type": "code",
      "source": [
        "p = np.argmax(p, axis = -1)\n",
        "p"
      ],
      "metadata": {
        "colab": {
          "base_uri": "https://localhost:8080/"
        },
        "id": "AXSjgsfB3Asv",
        "outputId": "3e8c3bc5-0cb8-485d-f5da-e615256af28c"
      },
      "execution_count": null,
      "outputs": [
        {
          "output_type": "execute_result",
          "data": {
            "text/plain": [
              "array([5])"
            ]
          },
          "metadata": {},
          "execution_count": 27
        }
      ]
    },
    {
      "cell_type": "markdown",
      "metadata": {
        "id": "7mf6Y2a0v8s4"
      },
      "source": [
        "Even simple CNN model shows fine performance of **97% **test accuracy"
      ]
    }
  ],
  "metadata": {
    "kernelspec": {
      "display_name": "Python 3",
      "language": "python",
      "name": "python3"
    },
    "language_info": {
      "codemirror_mode": {
        "name": "ipython",
        "version": 3
      },
      "file_extension": ".py",
      "mimetype": "text/x-python",
      "name": "python",
      "nbconvert_exporter": "python",
      "pygments_lexer": "ipython3",
      "version": "3.6.1"
    },
    "colab": {
      "provenance": []
    }
  },
  "nbformat": 4,
  "nbformat_minor": 0
}